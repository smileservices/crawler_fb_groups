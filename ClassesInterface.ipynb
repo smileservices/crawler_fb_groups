{
 "cells": [
  {
   "cell_type": "code",
   "execution_count": 1,
   "metadata": {
    "collapsed": false
   },
   "outputs": [
    {
     "name": "stdout",
     "output_type": "stream",
     "text": [
      "b'--------------------'\n",
      "b'Starting a new test jupyter session'\n",
      "b'Getting to login page...'\n",
      "b'Sending login request to https://www.facebook.com/login.php?login_attempt=1&lwv=110'\n"
     ]
    }
   ],
   "source": [
    "import json\n",
    "from log_setup import log\n",
    "from fb_crawler import FBCrawler\n",
    "from fb_profile import FBProfile\n",
    "\n",
    "log('--------------------')\n",
    "log('Starting a new test jupyter session')\n",
    "\n",
    "# import user config file\n",
    "users_file = 'users.json'\n",
    "users = json.load(open(users_file))\n",
    "\n",
    "logs_count = 0\n",
    "\n",
    "# login into fb account\n",
    "\n",
    "crawler = FBCrawler(users[0])"
   ]
  },
  {
   "cell_type": "code",
   "execution_count": 2,
   "metadata": {
    "collapsed": false,
    "scrolled": true
   },
   "outputs": [
    {
     "name": "stdout",
     "output_type": "stream",
     "text": [
      "b'Retrieving profile page at url https://www.facebook.com/profile.php?id=100004400105419'\n",
      "b'Does not have vanity url'\n"
     ]
    }
   ],
   "source": [
    "profile = FBProfile(users[0]['user_id'], crawler.sess, '100004400105419')"
   ]
  },
  {
   "cell_type": "code",
   "execution_count": 5,
   "metadata": {
    "collapsed": false
   },
   "outputs": [
    {
     "name": "stdout",
     "output_type": "stream",
     "text": [
      "b'Firstname, Lastname - Hv, Valentin'\n",
      "b'DOB is '\n",
      "b'Country state city are '\n",
      "b'Gender is '\n"
     ]
    },
    {
     "data": {
      "text/plain": [
       "{'country_state_city': '',\n",
       " 'dob': '',\n",
       " 'firstname': 'Hv',\n",
       " 'gender': '',\n",
       " 'id': '100004400105419',\n",
       " 'lastname': 'Valentin'}"
      ]
     },
     "execution_count": 5,
     "metadata": {},
     "output_type": "execute_result"
    }
   ],
   "source": [
    "profile.get_user_data()"
   ]
  },
  {
   "cell_type": "code",
   "execution_count": 3,
   "metadata": {
    "collapsed": false
   },
   "outputs": [
    {
     "data": {
      "text/plain": [
       "'https://www.facebook.com/profile.php\\\\?id=100004400105419&amp;lst=100008054374733(.+?)\"'"
      ]
     },
     "execution_count": 3,
     "metadata": {},
     "output_type": "execute_result"
    }
   ],
   "source": [
    "import re\n",
    "weird_page = crawler.sess.get('https://www.facebook.com/profile.php?id=100004400105419')\n",
    "secure_url_pat = '{}&amp;lst={}(.+?)\"'.format(re.sub(r'([\\?])', r'\\\\\\1', weird_page.url), '100008054374733')\n",
    "secure_url_pat"
   ]
  },
  {
   "cell_type": "code",
   "execution_count": 4,
   "metadata": {
    "collapsed": false
   },
   "outputs": [
    {
     "data": {
      "text/plain": [
       "'%3A100004400105419%3A1514027184'"
      ]
     },
     "execution_count": 4,
     "metadata": {},
     "output_type": "execute_result"
    }
   ],
   "source": [
    "re.search(secure_url_pat, weird_page.text).group(1)"
   ]
  },
  {
   "cell_type": "code",
   "execution_count": 6,
   "metadata": {
    "collapsed": true
   },
   "outputs": [],
   "source": [
    "import pickle\n",
    "cached_members = pickle.load(open('cache/1745310425781671.pkl', 'rb'))"
   ]
  },
  {
   "cell_type": "code",
   "execution_count": 11,
   "metadata": {
    "collapsed": false
   },
   "outputs": [
    {
     "data": {
      "text/plain": [
       "True"
      ]
     },
     "execution_count": 11,
     "metadata": {},
     "output_type": "execute_result"
    }
   ],
   "source": [
    "'1367058239' in cached_members"
   ]
  },
  {
   "cell_type": "code",
   "execution_count": 13,
   "metadata": {
    "collapsed": false
   },
   "outputs": [
    {
     "data": {
      "text/plain": [
       "False"
      ]
     },
     "execution_count": 13,
     "metadata": {},
     "output_type": "execute_result"
    }
   ],
   "source": [
    "dicu = {'a':2, 'b':3}\n",
    "'2' in dicu"
   ]
  },
  {
   "cell_type": "code",
   "execution_count": 17,
   "metadata": {
    "collapsed": false
   },
   "outputs": [
    {
     "name": "stdout",
     "output_type": "stream",
     "text": [
      "[Errno 2] No such file or directory: 'sda'\n"
     ]
    }
   ],
   "source": [
    "try:\n",
    "    open('sda', 'rb')\n",
    "except FileNotFoundError as e:\n",
    "    print(str(e))"
   ]
  },
  {
   "cell_type": "code",
   "execution_count": null,
   "metadata": {
    "collapsed": true
   },
   "outputs": [],
   "source": []
  }
 ],
 "metadata": {
  "kernelspec": {
   "display_name": "Python 3",
   "language": "python",
   "name": "python3"
  },
  "language_info": {
   "codemirror_mode": {
    "name": "ipython",
    "version": 3
   },
   "file_extension": ".py",
   "mimetype": "text/x-python",
   "name": "python",
   "nbconvert_exporter": "python",
   "pygments_lexer": "ipython3",
   "version": "3.4.5"
  }
 },
 "nbformat": 4,
 "nbformat_minor": 2
}
